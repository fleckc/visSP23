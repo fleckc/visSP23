{
  "nbformat": 4,
  "nbformat_minor": 0,
  "metadata": {
    "colab": {
      "provenance": [],
      "toc_visible": true,
      "include_colab_link": true
    },
    "kernelspec": {
      "name": "python3",
      "display_name": "Python 3"
    },
    "language_info": {
      "name": "python"
    }
  },
  "cells": [
    {
      "cell_type": "markdown",
      "metadata": {
        "id": "view-in-github",
        "colab_type": "text"
      },
      "source": [
        "<a href=\"https://colab.research.google.com/github/fleckc/visSP23/blob/main/ps4.ipynb\" target=\"_parent\"><img src=\"https://colab.research.google.com/assets/colab-badge.svg\" alt=\"Open In Colab\"/></a>"
      ]
    },
    {
      "cell_type": "code",
      "execution_count": 6,
      "metadata": {
        "id": "5XXf1jSoVjT_"
      },
      "outputs": [],
      "source": [
        "import pandas as pd\n",
        "import numpy as np\n",
        "import urllib\n",
        "import os\n",
        "from google.colab import files\n",
        "import time, os, sys, re\n",
        "import pandas_datareader as pdr\n",
        "from pandas_datareader import wb\n",
        "import matplotlib.pyplot as plt\n",
        "import seaborn as sns"
      ]
    },
    {
      "cell_type": "code",
      "source": [
        "%matplotlib inline\n",
        "plt.style.use('default')"
      ],
      "metadata": {
        "id": "WmyoGf0jcV-J"
      },
      "execution_count": 2,
      "outputs": []
    },
    {
      "cell_type": "markdown",
      "source": [
        "#Data\n",
        "This dataset is the 2021 New Jersey state legislative primaries results, along with other possibly important variables such as gender, a campaign finance report, and party. Candidates are the unit of observation, but broken up by county; since the goal is to look at county party endorsedments, these are separated out. Thus there are multiple observations for a candidate if their legislative district covered more than one county.\n",
        "\n",
        "The main question to be asked in a regression is whether there is an effect from the endorsement process on the margin of victory in which that candidate was endorsed. But generally, we are looking to see if the endorsement is valuable in some way."
      ],
      "metadata": {
        "id": "TN70zWTzhF-3"
      }
    },
    {
      "cell_type": "code",
      "source": [
        "njline = pd.read_csv(\"https://github.com/fleckc/visSP23/raw/main/njline.csv\")"
      ],
      "metadata": {
        "id": "Jo-YKmWKUjl7"
      },
      "execution_count": 7,
      "outputs": []
    },
    {
      "cell_type": "code",
      "source": [
        "partycolor = [\"red\", \"blue\"]\n",
        "#will use for party color palette in graphs to distinguish between candidates of different parties"
      ],
      "metadata": {
        "id": "L0-esEcug185"
      },
      "execution_count": 8,
      "outputs": []
    },
    {
      "cell_type": "code",
      "source": [
        "njline\n"
      ],
      "metadata": {
        "id": "TcDV7TCAoTNn",
        "outputId": "771ae638-f762-445e-a8cc-a637f774ee14",
        "colab": {
          "base_uri": "https://localhost:8080/",
          "height": 488
        }
      },
      "execution_count": 10,
      "outputs": [
        {
          "output_type": "execute_result",
          "data": {
            "text/plain": [
              "     Year Candidate Party  LD Level Gender  Incumbent      County  \\\n",
              "0    2021  McGuckin     R  10     A      M          1       Ocean   \n",
              "1    2021  Catalano     R  10     A      M          1       Ocean   \n",
              "2    2021  Ambrosio     R  10     A      F          0       Ocean   \n",
              "3    2021     Quinn     R  10     A      M          0       Ocean   \n",
              "4    2021    Dancer     R  12     A      M          1  Burlington   \n",
              "..    ...       ...   ...  ..   ...    ...        ...         ...   \n",
              "153  2019    Rivers     D  17     A      M          0   Middlesex   \n",
              "154  2019    Rivers     D  17     A      M          0    Somerset   \n",
              "155  2019   Quijano     D  20     A      F          1       Union   \n",
              "156  2019    Holley     D  20     A      M          1       Union   \n",
              "157  2019     Jones     D  20     A      M          0       Union   \n",
              "\n",
              "     Endorsement  Votes.Received  Nearest.Comp  Total.County.Votes  \\\n",
              "0              1           10623          7048               35388   \n",
              "1              1           10744          7048               35388   \n",
              "2              0            7048         10623               35388   \n",
              "3              0            6923         10623               35388   \n",
              "4              1             685            43                1355   \n",
              "..           ...             ...           ...                 ...   \n",
              "153            0            1303          5182                6548   \n",
              "154            0             636          3242                3967   \n",
              "155            1            8616          2111               11028   \n",
              "156            1            8917          2111               11028   \n",
              "157            0            2111          8616               11028   \n",
              "\n",
              "     Margin.of.Victory.County  Eleven.Day.COH  Treatment  \n",
              "0                    0.101023        49374.49        0.0  \n",
              "1                    0.104442        18477.40        0.0  \n",
              "2                   -0.101023         6172.52        0.0  \n",
              "3                   -0.104555            0.00        0.0  \n",
              "4                    0.473801       253530.77        0.0  \n",
              "..                        ...             ...        ...  \n",
              "153                 -0.592395             NaN        NaN  \n",
              "154                 -0.656920             NaN        NaN  \n",
              "155                  0.589862             NaN        NaN  \n",
              "156                  0.617156             NaN        NaN  \n",
              "157                 -0.589862             NaN        NaN  \n",
              "\n",
              "[158 rows x 15 columns]"
            ],
            "text/html": [
              "\n",
              "  <div id=\"df-6eb359d5-1982-4dbe-a782-299480d3e03a\">\n",
              "    <div class=\"colab-df-container\">\n",
              "      <div>\n",
              "<style scoped>\n",
              "    .dataframe tbody tr th:only-of-type {\n",
              "        vertical-align: middle;\n",
              "    }\n",
              "\n",
              "    .dataframe tbody tr th {\n",
              "        vertical-align: top;\n",
              "    }\n",
              "\n",
              "    .dataframe thead th {\n",
              "        text-align: right;\n",
              "    }\n",
              "</style>\n",
              "<table border=\"1\" class=\"dataframe\">\n",
              "  <thead>\n",
              "    <tr style=\"text-align: right;\">\n",
              "      <th></th>\n",
              "      <th>Year</th>\n",
              "      <th>Candidate</th>\n",
              "      <th>Party</th>\n",
              "      <th>LD</th>\n",
              "      <th>Level</th>\n",
              "      <th>Gender</th>\n",
              "      <th>Incumbent</th>\n",
              "      <th>County</th>\n",
              "      <th>Endorsement</th>\n",
              "      <th>Votes.Received</th>\n",
              "      <th>Nearest.Comp</th>\n",
              "      <th>Total.County.Votes</th>\n",
              "      <th>Margin.of.Victory.County</th>\n",
              "      <th>Eleven.Day.COH</th>\n",
              "      <th>Treatment</th>\n",
              "    </tr>\n",
              "  </thead>\n",
              "  <tbody>\n",
              "    <tr>\n",
              "      <th>0</th>\n",
              "      <td>2021</td>\n",
              "      <td>McGuckin</td>\n",
              "      <td>R</td>\n",
              "      <td>10</td>\n",
              "      <td>A</td>\n",
              "      <td>M</td>\n",
              "      <td>1</td>\n",
              "      <td>Ocean</td>\n",
              "      <td>1</td>\n",
              "      <td>10623</td>\n",
              "      <td>7048</td>\n",
              "      <td>35388</td>\n",
              "      <td>0.101023</td>\n",
              "      <td>49374.49</td>\n",
              "      <td>0.0</td>\n",
              "    </tr>\n",
              "    <tr>\n",
              "      <th>1</th>\n",
              "      <td>2021</td>\n",
              "      <td>Catalano</td>\n",
              "      <td>R</td>\n",
              "      <td>10</td>\n",
              "      <td>A</td>\n",
              "      <td>M</td>\n",
              "      <td>1</td>\n",
              "      <td>Ocean</td>\n",
              "      <td>1</td>\n",
              "      <td>10744</td>\n",
              "      <td>7048</td>\n",
              "      <td>35388</td>\n",
              "      <td>0.104442</td>\n",
              "      <td>18477.40</td>\n",
              "      <td>0.0</td>\n",
              "    </tr>\n",
              "    <tr>\n",
              "      <th>2</th>\n",
              "      <td>2021</td>\n",
              "      <td>Ambrosio</td>\n",
              "      <td>R</td>\n",
              "      <td>10</td>\n",
              "      <td>A</td>\n",
              "      <td>F</td>\n",
              "      <td>0</td>\n",
              "      <td>Ocean</td>\n",
              "      <td>0</td>\n",
              "      <td>7048</td>\n",
              "      <td>10623</td>\n",
              "      <td>35388</td>\n",
              "      <td>-0.101023</td>\n",
              "      <td>6172.52</td>\n",
              "      <td>0.0</td>\n",
              "    </tr>\n",
              "    <tr>\n",
              "      <th>3</th>\n",
              "      <td>2021</td>\n",
              "      <td>Quinn</td>\n",
              "      <td>R</td>\n",
              "      <td>10</td>\n",
              "      <td>A</td>\n",
              "      <td>M</td>\n",
              "      <td>0</td>\n",
              "      <td>Ocean</td>\n",
              "      <td>0</td>\n",
              "      <td>6923</td>\n",
              "      <td>10623</td>\n",
              "      <td>35388</td>\n",
              "      <td>-0.104555</td>\n",
              "      <td>0.00</td>\n",
              "      <td>0.0</td>\n",
              "    </tr>\n",
              "    <tr>\n",
              "      <th>4</th>\n",
              "      <td>2021</td>\n",
              "      <td>Dancer</td>\n",
              "      <td>R</td>\n",
              "      <td>12</td>\n",
              "      <td>A</td>\n",
              "      <td>M</td>\n",
              "      <td>1</td>\n",
              "      <td>Burlington</td>\n",
              "      <td>1</td>\n",
              "      <td>685</td>\n",
              "      <td>43</td>\n",
              "      <td>1355</td>\n",
              "      <td>0.473801</td>\n",
              "      <td>253530.77</td>\n",
              "      <td>0.0</td>\n",
              "    </tr>\n",
              "    <tr>\n",
              "      <th>...</th>\n",
              "      <td>...</td>\n",
              "      <td>...</td>\n",
              "      <td>...</td>\n",
              "      <td>...</td>\n",
              "      <td>...</td>\n",
              "      <td>...</td>\n",
              "      <td>...</td>\n",
              "      <td>...</td>\n",
              "      <td>...</td>\n",
              "      <td>...</td>\n",
              "      <td>...</td>\n",
              "      <td>...</td>\n",
              "      <td>...</td>\n",
              "      <td>...</td>\n",
              "      <td>...</td>\n",
              "    </tr>\n",
              "    <tr>\n",
              "      <th>153</th>\n",
              "      <td>2019</td>\n",
              "      <td>Rivers</td>\n",
              "      <td>D</td>\n",
              "      <td>17</td>\n",
              "      <td>A</td>\n",
              "      <td>M</td>\n",
              "      <td>0</td>\n",
              "      <td>Middlesex</td>\n",
              "      <td>0</td>\n",
              "      <td>1303</td>\n",
              "      <td>5182</td>\n",
              "      <td>6548</td>\n",
              "      <td>-0.592395</td>\n",
              "      <td>NaN</td>\n",
              "      <td>NaN</td>\n",
              "    </tr>\n",
              "    <tr>\n",
              "      <th>154</th>\n",
              "      <td>2019</td>\n",
              "      <td>Rivers</td>\n",
              "      <td>D</td>\n",
              "      <td>17</td>\n",
              "      <td>A</td>\n",
              "      <td>M</td>\n",
              "      <td>0</td>\n",
              "      <td>Somerset</td>\n",
              "      <td>0</td>\n",
              "      <td>636</td>\n",
              "      <td>3242</td>\n",
              "      <td>3967</td>\n",
              "      <td>-0.656920</td>\n",
              "      <td>NaN</td>\n",
              "      <td>NaN</td>\n",
              "    </tr>\n",
              "    <tr>\n",
              "      <th>155</th>\n",
              "      <td>2019</td>\n",
              "      <td>Quijano</td>\n",
              "      <td>D</td>\n",
              "      <td>20</td>\n",
              "      <td>A</td>\n",
              "      <td>F</td>\n",
              "      <td>1</td>\n",
              "      <td>Union</td>\n",
              "      <td>1</td>\n",
              "      <td>8616</td>\n",
              "      <td>2111</td>\n",
              "      <td>11028</td>\n",
              "      <td>0.589862</td>\n",
              "      <td>NaN</td>\n",
              "      <td>NaN</td>\n",
              "    </tr>\n",
              "    <tr>\n",
              "      <th>156</th>\n",
              "      <td>2019</td>\n",
              "      <td>Holley</td>\n",
              "      <td>D</td>\n",
              "      <td>20</td>\n",
              "      <td>A</td>\n",
              "      <td>M</td>\n",
              "      <td>1</td>\n",
              "      <td>Union</td>\n",
              "      <td>1</td>\n",
              "      <td>8917</td>\n",
              "      <td>2111</td>\n",
              "      <td>11028</td>\n",
              "      <td>0.617156</td>\n",
              "      <td>NaN</td>\n",
              "      <td>NaN</td>\n",
              "    </tr>\n",
              "    <tr>\n",
              "      <th>157</th>\n",
              "      <td>2019</td>\n",
              "      <td>Jones</td>\n",
              "      <td>D</td>\n",
              "      <td>20</td>\n",
              "      <td>A</td>\n",
              "      <td>M</td>\n",
              "      <td>0</td>\n",
              "      <td>Union</td>\n",
              "      <td>0</td>\n",
              "      <td>2111</td>\n",
              "      <td>8616</td>\n",
              "      <td>11028</td>\n",
              "      <td>-0.589862</td>\n",
              "      <td>NaN</td>\n",
              "      <td>NaN</td>\n",
              "    </tr>\n",
              "  </tbody>\n",
              "</table>\n",
              "<p>158 rows × 15 columns</p>\n",
              "</div>\n",
              "      <button class=\"colab-df-convert\" onclick=\"convertToInteractive('df-6eb359d5-1982-4dbe-a782-299480d3e03a')\"\n",
              "              title=\"Convert this dataframe to an interactive table.\"\n",
              "              style=\"display:none;\">\n",
              "        \n",
              "  <svg xmlns=\"http://www.w3.org/2000/svg\" height=\"24px\"viewBox=\"0 0 24 24\"\n",
              "       width=\"24px\">\n",
              "    <path d=\"M0 0h24v24H0V0z\" fill=\"none\"/>\n",
              "    <path d=\"M18.56 5.44l.94 2.06.94-2.06 2.06-.94-2.06-.94-.94-2.06-.94 2.06-2.06.94zm-11 1L8.5 8.5l.94-2.06 2.06-.94-2.06-.94L8.5 2.5l-.94 2.06-2.06.94zm10 10l.94 2.06.94-2.06 2.06-.94-2.06-.94-.94-2.06-.94 2.06-2.06.94z\"/><path d=\"M17.41 7.96l-1.37-1.37c-.4-.4-.92-.59-1.43-.59-.52 0-1.04.2-1.43.59L10.3 9.45l-7.72 7.72c-.78.78-.78 2.05 0 2.83L4 21.41c.39.39.9.59 1.41.59.51 0 1.02-.2 1.41-.59l7.78-7.78 2.81-2.81c.8-.78.8-2.07 0-2.86zM5.41 20L4 18.59l7.72-7.72 1.47 1.35L5.41 20z\"/>\n",
              "  </svg>\n",
              "      </button>\n",
              "      \n",
              "  <style>\n",
              "    .colab-df-container {\n",
              "      display:flex;\n",
              "      flex-wrap:wrap;\n",
              "      gap: 12px;\n",
              "    }\n",
              "\n",
              "    .colab-df-convert {\n",
              "      background-color: #E8F0FE;\n",
              "      border: none;\n",
              "      border-radius: 50%;\n",
              "      cursor: pointer;\n",
              "      display: none;\n",
              "      fill: #1967D2;\n",
              "      height: 32px;\n",
              "      padding: 0 0 0 0;\n",
              "      width: 32px;\n",
              "    }\n",
              "\n",
              "    .colab-df-convert:hover {\n",
              "      background-color: #E2EBFA;\n",
              "      box-shadow: 0px 1px 2px rgba(60, 64, 67, 0.3), 0px 1px 3px 1px rgba(60, 64, 67, 0.15);\n",
              "      fill: #174EA6;\n",
              "    }\n",
              "\n",
              "    [theme=dark] .colab-df-convert {\n",
              "      background-color: #3B4455;\n",
              "      fill: #D2E3FC;\n",
              "    }\n",
              "\n",
              "    [theme=dark] .colab-df-convert:hover {\n",
              "      background-color: #434B5C;\n",
              "      box-shadow: 0px 1px 3px 1px rgba(0, 0, 0, 0.15);\n",
              "      filter: drop-shadow(0px 1px 2px rgba(0, 0, 0, 0.3));\n",
              "      fill: #FFFFFF;\n",
              "    }\n",
              "  </style>\n",
              "\n",
              "      <script>\n",
              "        const buttonEl =\n",
              "          document.querySelector('#df-6eb359d5-1982-4dbe-a782-299480d3e03a button.colab-df-convert');\n",
              "        buttonEl.style.display =\n",
              "          google.colab.kernel.accessAllowed ? 'block' : 'none';\n",
              "\n",
              "        async function convertToInteractive(key) {\n",
              "          const element = document.querySelector('#df-6eb359d5-1982-4dbe-a782-299480d3e03a');\n",
              "          const dataTable =\n",
              "            await google.colab.kernel.invokeFunction('convertToInteractive',\n",
              "                                                     [key], {});\n",
              "          if (!dataTable) return;\n",
              "\n",
              "          const docLinkHtml = 'Like what you see? Visit the ' +\n",
              "            '<a target=\"_blank\" href=https://colab.research.google.com/notebooks/data_table.ipynb>data table notebook</a>'\n",
              "            + ' to learn more about interactive tables.';\n",
              "          element.innerHTML = '';\n",
              "          dataTable['output_type'] = 'display_data';\n",
              "          await google.colab.output.renderOutput(dataTable, element);\n",
              "          const docLink = document.createElement('div');\n",
              "          docLink.innerHTML = docLinkHtml;\n",
              "          element.appendChild(docLink);\n",
              "        }\n",
              "      </script>\n",
              "    </div>\n",
              "  </div>\n",
              "  "
            ]
          },
          "metadata": {},
          "execution_count": 10
        }
      ]
    },
    {
      "cell_type": "markdown",
      "source": [
        "#Figure - Endorsement"
      ],
      "metadata": {
        "id": "6vEfA5OvhWvq"
      }
    },
    {
      "cell_type": "markdown",
      "source": [
        "Let's look at the difference between endorsed candidates and challenger candidates, with a distinction by party as well."
      ],
      "metadata": {
        "id": "D-OyEtThnjh7"
      }
    },
    {
      "cell_type": "code",
      "source": [
        "#aok getting error swarmplot() got multiple values for argument 'data'\n",
        "#also would be useful to compare to barplot, may be cleaner\n",
        "\n",
        "#need to relabel the endorsement variables somehow\n",
        "fig, ax = plt.subplots(figsize = (7,7))\n",
        "sns.set_palette(partycolor)\n",
        "ax = sns.swarmplot('Endorsement','Margin.of.Victory.County', data = njline, hue = 'Party', dodge = True)\n",
        "ax.set(xlabel = \"Endorsement, by County\", ylabel = \"Margin of Victory, by County\", title = \"Effect of Ballot Position\")\n",
        "plt.grid(axis='y', color='.7')\n",
        "ax.axhline(0.0, color = \"black\") #who wins and loses is determined by this line!\n",
        "plt.legend(loc = 'lower right')\n",
        "plt.show();"
      ],
      "metadata": {
        "colab": {
          "base_uri": "https://localhost:8080/",
          "height": 839
        },
        "id": "ya5DoAYuXdy5",
        "outputId": "f17be0e2-b2f4-4e86-8656-bd33c5cb916d"
      },
      "execution_count": 11,
      "outputs": [
        {
          "output_type": "error",
          "ename": "TypeError",
          "evalue": "ignored",
          "traceback": [
            "\u001b[0;31m---------------------------------------------------------------------------\u001b[0m",
            "\u001b[0;31mTypeError\u001b[0m                                 Traceback (most recent call last)",
            "\u001b[0;32m<ipython-input-11-b99c6145b50b>\u001b[0m in \u001b[0;36m<module>\u001b[0;34m\u001b[0m\n\u001b[1;32m      2\u001b[0m \u001b[0mfig\u001b[0m\u001b[0;34m,\u001b[0m \u001b[0max\u001b[0m \u001b[0;34m=\u001b[0m \u001b[0mplt\u001b[0m\u001b[0;34m.\u001b[0m\u001b[0msubplots\u001b[0m\u001b[0;34m(\u001b[0m\u001b[0mfigsize\u001b[0m \u001b[0;34m=\u001b[0m \u001b[0;34m(\u001b[0m\u001b[0;36m7\u001b[0m\u001b[0;34m,\u001b[0m\u001b[0;36m7\u001b[0m\u001b[0;34m)\u001b[0m\u001b[0;34m)\u001b[0m\u001b[0;34m\u001b[0m\u001b[0;34m\u001b[0m\u001b[0m\n\u001b[1;32m      3\u001b[0m \u001b[0msns\u001b[0m\u001b[0;34m.\u001b[0m\u001b[0mset_palette\u001b[0m\u001b[0;34m(\u001b[0m\u001b[0mpartycolor\u001b[0m\u001b[0;34m)\u001b[0m\u001b[0;34m\u001b[0m\u001b[0;34m\u001b[0m\u001b[0m\n\u001b[0;32m----> 4\u001b[0;31m \u001b[0max\u001b[0m \u001b[0;34m=\u001b[0m \u001b[0msns\u001b[0m\u001b[0;34m.\u001b[0m\u001b[0mswarmplot\u001b[0m\u001b[0;34m(\u001b[0m\u001b[0;34m'Endorsement'\u001b[0m\u001b[0;34m,\u001b[0m\u001b[0;34m'Margin.of.Victory.County'\u001b[0m\u001b[0;34m,\u001b[0m \u001b[0mdata\u001b[0m \u001b[0;34m=\u001b[0m \u001b[0mnjline\u001b[0m\u001b[0;34m,\u001b[0m \u001b[0mhue\u001b[0m \u001b[0;34m=\u001b[0m \u001b[0;34m'Party'\u001b[0m\u001b[0;34m,\u001b[0m \u001b[0mdodge\u001b[0m \u001b[0;34m=\u001b[0m \u001b[0;32mTrue\u001b[0m\u001b[0;34m)\u001b[0m\u001b[0;34m\u001b[0m\u001b[0;34m\u001b[0m\u001b[0m\n\u001b[0m\u001b[1;32m      5\u001b[0m \u001b[0max\u001b[0m\u001b[0;34m.\u001b[0m\u001b[0mset\u001b[0m\u001b[0;34m(\u001b[0m\u001b[0mxlabel\u001b[0m \u001b[0;34m=\u001b[0m \u001b[0;34m\"Endorsement, by County\"\u001b[0m\u001b[0;34m,\u001b[0m \u001b[0mylabel\u001b[0m \u001b[0;34m=\u001b[0m \u001b[0;34m\"Margin of Victory, by County\"\u001b[0m\u001b[0;34m,\u001b[0m \u001b[0mtitle\u001b[0m \u001b[0;34m=\u001b[0m \u001b[0;34m\"Effect of Ballot Position\"\u001b[0m\u001b[0;34m)\u001b[0m\u001b[0;34m\u001b[0m\u001b[0;34m\u001b[0m\u001b[0m\n\u001b[1;32m      6\u001b[0m \u001b[0mplt\u001b[0m\u001b[0;34m.\u001b[0m\u001b[0mgrid\u001b[0m\u001b[0;34m(\u001b[0m\u001b[0maxis\u001b[0m\u001b[0;34m=\u001b[0m\u001b[0;34m'y'\u001b[0m\u001b[0;34m,\u001b[0m \u001b[0mcolor\u001b[0m\u001b[0;34m=\u001b[0m\u001b[0;34m'.7'\u001b[0m\u001b[0;34m)\u001b[0m\u001b[0;34m\u001b[0m\u001b[0;34m\u001b[0m\u001b[0m\n",
            "\u001b[0;31mTypeError\u001b[0m: swarmplot() got multiple values for argument 'data'"
          ]
        },
        {
          "output_type": "display_data",
          "data": {
            "text/plain": [
              "<Figure size 700x700 with 1 Axes>"
            ],
            "image/png": "[encoded data removed]"
          },
          "metadata": {}
        }
      ]
    },
    {
      "cell_type": "code",
      "source": [],
      "metadata": {
        "id": "_-eSpYr2gy01"
      },
      "execution_count": null,
      "outputs": []
    },
    {
      "cell_type": "markdown",
      "source": [
        "We have a great view of our main question, but there are more questions raised. The most important question is who are the outliers that have been demonstrated. In this case, it is the two unendorsed candidate-county observations with a positive margin of victory, and an apparent single endorsed candidate-county with a negative margin of victory.\n",
        "\n",
        "Looking at the raw data, there is no candidate who had the endorsement and also had a negative margin of victory. But, there is one candidate (in two counties) who was not the endorsed candidate and did win that county. So we have a finding!\n",
        "\n",
        "Additionally, by sorting the candidate observations by party and separating them, we can see there is a greater effect for Democrats than Republicans."
      ],
      "metadata": {
        "id": "2DHyMicSiAYD"
      }
    },
    {
      "cell_type": "markdown",
      "source": [
        "#Figure - Campaign Finance"
      ],
      "metadata": {
        "id": "gNSL1Fh7kTOp"
      }
    },
    {
      "cell_type": "markdown",
      "source": [
        "Let's look at how much money these campaigns have at the last report before the primary election date."
      ],
      "metadata": {
        "id": "WW0fKZvhnbJf"
      }
    },
    {
      "cell_type": "code",
      "source": [
        "fig, ax = plt.subplots(figsize = (7,7))\n",
        "sns.set_palette(partycolor)\n",
        "sns.boxplot(x = \"Endorsement\", y = \"Eleven.Day.COH\", data = njline, hue = \"Party\")\n",
        "ax.set(xlabel = \"Endorsement\", ylabel = \"Cash on Hand, 11 Day Report\", title = \"Campaign Finance by Party and Endorsement\")\n",
        "ax.yaxis.set_major_formatter('${x:1.2f}')\n",
        "plt.show();"
      ],
      "metadata": {
        "colab": {
          "base_uri": "https://localhost:8080/",
          "height": 641
        },
        "id": "seGCVgn7jreV",
        "outputId": "e29178b1-ccb9-41c1-cea7-ee82315c2dfa"
      },
      "execution_count": 12,
      "outputs": [
        {
          "output_type": "display_data",
          "data": {
            "text/plain": [
              "<Figure size 700x700 with 1 Axes>"
            ],
            "image/png": "[encoded data removed]"
          },
          "metadata": {}
        }
      ]
    },
    {
      "cell_type": "markdown",
      "source": [
        "There is a distinct difference in the endorsed candidates against the undendorsed candidates, but the difference is even more stark when separated by party. Though there is a Republican outlier, most endorsed Democrats in the legislative elections have a lot more money than both their primary election opponents as well as the opposing party. New Jersey is predominantly a blue state, but given that state legislative districts must be similar in population size, that may not be a possible explanation. Is there simply more money in the Democratic party?"
      ],
      "metadata": {
        "id": "mO149YZtluU4"
      }
    },
    {
      "cell_type": "markdown",
      "source": [
        "#Conclusions So Far"
      ],
      "metadata": {
        "id": "FctcSevGny95"
      }
    },
    {
      "cell_type": "markdown",
      "source": [
        "Clearly, there is some relationship between the endorsement process and success in the primary. As well, we see a relationship between endorsement status and campaign financing. These two relationships form the crux of the investigation: what exactly does a party endorsement confer when it is given? It seems that there is quite a lot, both monetarily as well as electorally."
      ],
      "metadata": {
        "id": "FQXhrgnMn2lK"
      }
    }
  ]
}