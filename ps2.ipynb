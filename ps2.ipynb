{
  "nbformat": 4,
  "nbformat_minor": 0,
  "metadata": {
    "colab": {
      "provenance": [],
      "authorship_tag": "ABX9TyNhntuaNQvTYM+Mno/DZRSS",
      "include_colab_link": true
    },
    "kernelspec": {
      "name": "python3",
      "display_name": "Python 3"
    },
    "language_info": {
      "name": "python"
    }
  },
  "cells": [
    {
      "cell_type": "markdown",
      "metadata": {
        "id": "view-in-github",
        "colab_type": "text"
      },
      "source": [
        "<a href=\"https://colab.research.google.com/github/fleckc/visSP23/blob/main/ps2.ipynb\" target=\"_parent\"><img src=\"https://colab.research.google.com/assets/colab-badge.svg\" alt=\"Open In Colab\"/></a>"
      ]
    },
    {
      "cell_type": "code",
      "execution_count": 1,
      "metadata": {
        "id": "5XXf1jSoVjT_"
      },
      "outputs": [],
      "source": [
        "import pandas as pd\n",
        "import numpy as np\n",
        "import urllib\n",
        "import os\n",
        "from google.colab import files\n",
        "import time, os, sys, re\n",
        "import pandas_datareader as pdr\n",
        "from pandas_datareader import wb"
      ]
    },
    {
      "cell_type": "markdown",
      "source": [
        "Looking at NJ population, voting habits, and migration. This uses election turnout results from 2000, the 2000 census population counts, and the 2000 census migration patterns in order to retain year similarity. Here are the data sources:\n",
        "\n",
        "https://www.state.nj.us/state/elections/election-information-ballots-cast.shtml \n",
        "\n",
        "(scroll down to 2000 to download the pdf, which I converted to xlsx/csv; it is in a set of cells so it easily converted)\n",
        "\n",
        "https://www.icpsr.umich.edu/web/ICPSR/studies/13569/\n",
        "\n",
        "https://www.icpsr.umich.edu/web/ICPSR/studies/13885/\n"
      ],
      "metadata": {
        "id": "leGA71QCY4Pe"
      }
    },
    {
      "cell_type": "code",
      "source": [
        "njvote=pd.read_csv('https://github.com/fleckc/visSP23/raw/main/NJ2000ballots.csv')"
      ],
      "metadata": {
        "id": "v0XyicQu8MIH"
      },
      "execution_count": 4,
      "outputs": []
    },
    {
      "cell_type": "code",
      "source": [
        "njpop=pd.read_csv('https://github.com/fleckc/visSP23/raw/main/njpop2000.csv')"
      ],
      "metadata": {
        "id": "RSegNs7l-bkz"
      },
      "execution_count": 5,
      "outputs": []
    },
    {
      "cell_type": "code",
      "source": [
        "njmigrate=pd.read_fwf('https://github.com/fleckc/visSP23/raw/main/countymigrationinflow.txt')"
      ],
      "metadata": {
        "id": "UBZ9eRHx-ho_"
      },
      "execution_count": 6,
      "outputs": []
    },
    {
      "cell_type": "code",
      "source": [
        "njvote.head()"
      ],
      "metadata": {
        "id": "c7QxWfQWRofD"
      },
      "execution_count": null,
      "outputs": []
    },
    {
      "cell_type": "code",
      "source": [
        "njvote=njvote.rename(columns={'COUNTY': 'County'})\n",
        "njvote #renaming for easier merge later"
      ],
      "metadata": {
        "id": "9rdAT9WLWia3"
      },
      "execution_count": null,
      "outputs": []
    },
    {
      "cell_type": "code",
      "source": [
        "njpop.head()"
      ],
      "metadata": {
        "id": "HbHWChNvwQWc"
      },
      "execution_count": null,
      "outputs": []
    },
    {
      "cell_type": "code",
      "source": [
        "countiesd = {'County': ['Atlantic', 'Bergen', 'Burlington', 'Camden', 'Cape May', 'Cumberland', 'Essex', 'Gloucester', 'Hudson', 'Hunterdon', 'Mercer', 'Middlesex', 'Monmouth', 'Morris', 'Ocean', 'Passaic', 'Salem', 'Somerset', 'Sussex', 'Union', 'Warren']}\n",
        "counties = pd.DataFrame(countiesd)\n",
        "counties #creating a dataframe (from a dict) for the list of counties to \"fix\" unmatched county name formats (Atlantic vs Atlantic County)"
      ],
      "metadata": {
        "id": "rOpoFeKXirWb"
      },
      "execution_count": null,
      "outputs": []
    },
    {
      "cell_type": "code",
      "source": [
        "njpop=njpop.drop(njpop.index[21:31])\n",
        "njpop=njpop.drop(['County'], axis=1)\n",
        "njpop=counties.join(njpop, how=\"outer\")\n",
        "njpop #dropping extraneous info and renaming counties column for easier merge later"
      ],
      "metadata": {
        "id": "ro-4diSXphHg"
      },
      "execution_count": null,
      "outputs": []
    },
    {
      "cell_type": "code",
      "source": [
        "njmigrate.head()"
      ],
      "metadata": {
        "id": "e5JETHUYdLu7"
      },
      "execution_count": null,
      "outputs": []
    },
    {
      "cell_type": "code",
      "source": [
        "njmigrate=njmigrate.rename(columns={'01001': 'StateCounty2000',\n",
        "                 '01003': 'StateCounty1995',\n",
        "                 '87': 'InflowMigration'})\n",
        "#renaming columns - note will eliminate some data in this instance but none we will use"
      ],
      "metadata": {
        "id": "tsZLjmqBjjEq"
      },
      "execution_count": 13,
      "outputs": []
    },
    {
      "cell_type": "code",
      "source": [
        "njmigratenjonly=njmigrate.query('StateCounty2000 > 34000 & StateCounty2000 < 35000')\n",
        "#eliminating FIPS codes/counties that are not NJ"
      ],
      "metadata": {
        "id": "jHPy7FNWslep"
      },
      "execution_count": 14,
      "outputs": []
    },
    {
      "cell_type": "code",
      "source": [
        "njmigratenjonly.head()"
      ],
      "metadata": {
        "id": "hE7sct7329Lf"
      },
      "execution_count": null,
      "outputs": []
    },
    {
      "cell_type": "code",
      "source": [
        "njmigrateonly2=njmigratenjonly.groupby('StateCounty2000')['InflowMigration'].sum()\n",
        "njmigrateonly2=pd.DataFrame(data=njmigrateonly2)\n",
        "njmigrateonly2=njmigrateonly2.reset_index(drop=\"true\")\n",
        "#not really what I wanted but it'll work in the end"
      ],
      "metadata": {
        "id": "VbRcBnyScX9i"
      },
      "execution_count": 16,
      "outputs": []
    },
    {
      "cell_type": "code",
      "source": [
        "njmigrateonly2.head()"
      ],
      "metadata": {
        "id": "eYGU62Nv2_y8"
      },
      "execution_count": null,
      "outputs": []
    },
    {
      "cell_type": "code",
      "source": [
        "njmerge1 = counties.join(njmigrateonly2, how=\"outer\")\n",
        "#putting county names to the total migration inflows"
      ],
      "metadata": {
        "id": "E37snU0NnaeP"
      },
      "execution_count": 18,
      "outputs": []
    },
    {
      "cell_type": "code",
      "source": [
        "njmerge1.head()"
      ],
      "metadata": {
        "id": "rI9tR5ux3D6Q"
      },
      "execution_count": null,
      "outputs": []
    },
    {
      "cell_type": "code",
      "source": [
        "njmerge2=pd.merge(njmerge1, njvote, how=\"outer\" )\n",
        "#merging migration and turnout"
      ],
      "metadata": {
        "id": "wVZFzqDhq-Rx"
      },
      "execution_count": 20,
      "outputs": []
    },
    {
      "cell_type": "code",
      "source": [
        "njmerge2.head()"
      ],
      "metadata": {
        "id": "CyNIhx2jtUFy"
      },
      "execution_count": null,
      "outputs": []
    },
    {
      "cell_type": "code",
      "source": [
        "njmerge3= pd.merge(njpop, njmerge2, how=\"outer\", on='County')\n",
        "#merging everything together into one dataset with common county naming convention"
      ],
      "metadata": {
        "id": "UiU9fmsdsbq1"
      },
      "execution_count": 22,
      "outputs": []
    },
    {
      "cell_type": "code",
      "source": [
        "njmerge3"
      ],
      "metadata": {
        "id": "uh7gwrcs3HGm"
      },
      "execution_count": null,
      "outputs": []
    },
    {
      "cell_type": "markdown",
      "source": [],
      "metadata": {
        "id": "rxzPx3I03HAc"
      }
    }
  ]
}